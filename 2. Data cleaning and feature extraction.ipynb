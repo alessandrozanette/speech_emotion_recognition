{
 "cells": [
  {
   "cell_type": "markdown",
   "id": "16ee3089-1b08-4db3-a136-a24c6cd9e71c",
   "metadata": {},
   "source": [
    "<a id=\"top2\"></a>\n",
    "# Data cleaning and features extraction\n",
    "\n",
    "In this notebook, the audio samples will be processed and some features will be extracted\n",
    "\n",
    "- [1. Data cleaning](#2_a)\n",
    "- [2. Feature extraction](#2_b)\n",
    "    * [Fundamental frequencies](#2_b1)\n",
    "    * [Mixed features](#2_b2)\n",
    "    * [MFCCs](#2_b3)\n",
    "- [3. Merge and export data](#3_a)"
   ]
  },
  {
   "cell_type": "markdown",
   "id": "23fd3d09-8a65-43ab-8ece-c3d4608e4848",
   "metadata": {},
   "source": [
    " "
   ]
  },
  {
   "cell_type": "code",
   "execution_count": 1,
   "id": "50209d41-d514-4d75-8a89-79cbb15065f7",
   "metadata": {},
   "outputs": [],
   "source": [
    "# import libraries\n",
    "import pandas as pd\n",
    "import numpy as np\n",
    "import random\n",
    "from glob import glob\n",
    "import os\n",
    "import librosa\n",
    "import noisereduce as nr\n",
    "from scipy.io import wavfile\n",
    "import warnings\n",
    "warnings.filterwarnings(\"ignore\")"
   ]
  },
  {
   "cell_type": "markdown",
   "id": "4d71ba3a-3bfe-4b21-ab81-67ab6c25d677",
   "metadata": {},
   "source": [
    " "
   ]
  },
  {
   "cell_type": "markdown",
   "id": "2fb4d459-487b-4988-a9f6-792c1f54ec5e",
   "metadata": {},
   "source": [
    "## <a id='2_a'>1. Data cleaning</a>"
   ]
  },
  {
   "cell_type": "markdown",
   "id": "7b30cad0-820d-4d99-9e99-9399f59855b7",
   "metadata": {},
   "source": [
    "First, let's import the dataset previously exported:"
   ]
  },
  {
   "cell_type": "code",
   "execution_count": 2,
   "id": "3654c02a-2786-44d3-ab08-276eb8b4e316",
   "metadata": {},
   "outputs": [
    {
     "name": "stdout",
     "output_type": "stream",
     "text": [
      "The dataset has 16783 audio files\n"
     ]
    },
    {
     "data": {
      "text/html": [
       "<div>\n",
       "<style scoped>\n",
       "    .dataframe tbody tr th:only-of-type {\n",
       "        vertical-align: middle;\n",
       "    }\n",
       "\n",
       "    .dataframe tbody tr th {\n",
       "        vertical-align: top;\n",
       "    }\n",
       "\n",
       "    .dataframe thead th {\n",
       "        text-align: right;\n",
       "    }\n",
       "</style>\n",
       "<table border=\"1\" class=\"dataframe\">\n",
       "  <thead>\n",
       "    <tr style=\"text-align: right;\">\n",
       "      <th></th>\n",
       "      <th>path</th>\n",
       "      <th>filename</th>\n",
       "      <th>dataset</th>\n",
       "      <th>duration</th>\n",
       "      <th>sample_rate</th>\n",
       "      <th>gender</th>\n",
       "      <th>age</th>\n",
       "      <th>emotion</th>\n",
       "    </tr>\n",
       "  </thead>\n",
       "  <tbody>\n",
       "    <tr>\n",
       "      <th>3043</th>\n",
       "      <td>../Audio files/CREMA-D/1038_ITH_ANG_XX.wav</td>\n",
       "      <td>1038_ITH_ANG_XX</td>\n",
       "      <td>CREMA-D</td>\n",
       "      <td>2.869</td>\n",
       "      <td>16000</td>\n",
       "      <td>male</td>\n",
       "      <td>21</td>\n",
       "      <td>angry</td>\n",
       "    </tr>\n",
       "  </tbody>\n",
       "</table>\n",
       "</div>"
      ],
      "text/plain": [
       "                                            path         filename  dataset  \\\n",
       "3043  ../Audio files/CREMA-D/1038_ITH_ANG_XX.wav  1038_ITH_ANG_XX  CREMA-D   \n",
       "\n",
       "      duration  sample_rate gender  age emotion  \n",
       "3043     2.869        16000   male   21   angry  "
      ]
     },
     "execution_count": 2,
     "metadata": {},
     "output_type": "execute_result"
    }
   ],
   "source": [
    "# Import the dataset and verify that the upload is successful\n",
    "df = pd.read_csv('emotions_data.csv')\n",
    "print('The dataset has {} audio files'.format(df.shape[0]))\n",
    "df.sample()"
   ]
  },
  {
   "cell_type": "markdown",
   "id": "77edb779-657e-408f-a690-df8eb909e4e7",
   "metadata": {},
   "source": [
    " "
   ]
  },
  {
   "cell_type": "markdown",
   "id": "0ade04e9-0e1a-4f26-9e6b-8ff4a5b8a1de",
   "metadata": {},
   "source": [
    "Audio data can be processed in many ways. As noted in the preliminary exploration of the data, the main technical problems with our files are:\n",
    "- The files have **different sample rates**\n",
    "- All files tested **start and end with some silence**\n",
    "- **Some samples are noisier** than others\n",
    "\n",
    "For the first problem I can resample the files, and they will all be at 16000 Hz, which is the lowest frequency among the samples, the one that is most present in their total number, and an acceptable value to represent the human voice.\n",
    "\n",
    "In the second case I will implement a `trim` function, which in effect cuts initial and final silence from an audio signal.\n",
    "\n",
    "For the noise the problem is more difficult, since the noise removal operation also affects the quality of the features to be extracted. For this reason I will use the module `noisereduce` ([link](https://pypi.org/project/noisereduce/)) and apply a light reduction of 10% for the stationary noise on all the samples. The reason for such reduction is due to the fact that this operation can also sensibly lower the quality of the signal thus removing also meaningful information of the audio for the next steps."
   ]
  },
  {
   "cell_type": "code",
   "execution_count": 3,
   "id": "995888d9-e20a-4ea9-b0c6-5f8b70c46a0f",
   "metadata": {
    "tags": []
   },
   "outputs": [],
   "source": [
    "# Folder where to store the cleaned audio files\n",
    "path = '/Users/greips/Audio files/cleaned_samples/'\n",
    "\n",
    "# Function to clean the samples based on dataset\n",
    "def clean_files(dataset): # Select files linked to a dataset\n",
    "    \n",
    "    df_clean = df[df['dataset'] == dataset].reset_index(drop=True)\n",
    "    \n",
    "    for i in range(0, df_clean.shape[0]):\n",
    "        \n",
    "        # load audio file at a sample rate of 16000 Hz:\n",
    "        y, sr = librosa.load(df_clean.path[i], sr=16000)\n",
    "    \n",
    "        # Trim signal at a level of 20 db\n",
    "        y_trim, _ = librosa.effects.trim(y, top_db=20)\n",
    "        \n",
    "        # Remove 25% noise from audio samples\n",
    "        y_noise_rem = nr.reduce_noise(y=y_trim, sr=sr, prop_decrease=0.1, stationary=True)\n",
    "        \n",
    "        # Rename new file adding '_cleaned.wav' and put it in the new folder\n",
    "        name = (os.path.join(path)+df_clean.filename[i]+'_cleaned.wav')\n",
    "    \n",
    "        #  Save output in a wav file in a new folder\n",
    "        wavfile.write(name, sr, y_noise_rem)"
   ]
  },
  {
   "cell_type": "code",
   "execution_count": 4,
   "id": "f75c4114-52b4-4f08-b9dd-a85e71a4152a",
   "metadata": {},
   "outputs": [
    {
     "name": "stdout",
     "output_type": "stream",
     "text": [
      "CPU times: user 3min 26s, sys: 46.5 s, total: 4min 12s\n",
      "Wall time: 4min 19s\n"
     ]
    }
   ],
   "source": [
    "%%time\n",
    "clean_files('CREMA-D')"
   ]
  },
  {
   "cell_type": "code",
   "execution_count": 5,
   "id": "10f97669-5064-40c6-b6d9-39e252e19efb",
   "metadata": {},
   "outputs": [
    {
     "name": "stdout",
     "output_type": "stream",
     "text": [
      "CPU times: user 2min 42s, sys: 8.34 s, total: 2min 51s\n",
      "Wall time: 2min 54s\n"
     ]
    }
   ],
   "source": [
    "%%time\n",
    "clean_files('RAVDESS')"
   ]
  },
  {
   "cell_type": "code",
   "execution_count": 6,
   "id": "20d2aec2-709d-4794-b66e-a73a2a526b1d",
   "metadata": {
    "tags": []
   },
   "outputs": [
    {
     "name": "stdout",
     "output_type": "stream",
     "text": [
      "CPU times: user 1min 14s, sys: 4.53 s, total: 1min 19s\n",
      "Wall time: 1min 20s\n"
     ]
    }
   ],
   "source": [
    "%%time\n",
    "clean_files('SAVEE')"
   ]
  },
  {
   "cell_type": "code",
   "execution_count": 7,
   "id": "644ab5f6-d799-426c-953a-d69013929e8f",
   "metadata": {},
   "outputs": [
    {
     "name": "stdout",
     "output_type": "stream",
     "text": [
      "CPU times: user 3min 8s, sys: 20.7 s, total: 3min 29s\n",
      "Wall time: 3min 35s\n"
     ]
    }
   ],
   "source": [
    "%%time\n",
    "clean_files('TESS')"
   ]
  },
  {
   "cell_type": "code",
   "execution_count": 8,
   "id": "1a3a3c06-b155-42bc-89ec-8625375f40c9",
   "metadata": {},
   "outputs": [
    {
     "name": "stdout",
     "output_type": "stream",
     "text": [
      "CPU times: user 4min 26s, sys: 35.2 s, total: 5min 1s\n",
      "Wall time: 5min 11s\n"
     ]
    }
   ],
   "source": [
    "%%time\n",
    "clean_files('EmoV_DB')"
   ]
  },
  {
   "cell_type": "code",
   "execution_count": 9,
   "id": "92fcfb84-000f-436d-a742-08da6f1e961b",
   "metadata": {},
   "outputs": [
    {
     "name": "stdout",
     "output_type": "stream",
     "text": [
      "CPU times: user 1min 30s, sys: 7.04 s, total: 1min 37s\n",
      "Wall time: 1min 39s\n"
     ]
    }
   ],
   "source": [
    "%%time\n",
    "clean_files('JL-Corpus')"
   ]
  },
  {
   "cell_type": "markdown",
   "id": "1ccd9b02-3af6-4b6a-a8fc-6ad7ab5405fc",
   "metadata": {},
   "source": [
    " "
   ]
  },
  {
   "cell_type": "code",
   "execution_count": 10,
   "id": "ce04c352-8cc9-43d6-9886-2f8f256f8efc",
   "metadata": {},
   "outputs": [],
   "source": [
    "# saving the new cleaned files path in a variable\n",
    "cleaned_files = sorted(filter(os.path.isfile, glob('../Audio files/cleaned_samples/*.wav')),key=os.path.getmtime)"
   ]
  },
  {
   "cell_type": "markdown",
   "id": "e10d7ded-a256-49a6-b338-9cf75379bdd0",
   "metadata": {},
   "source": [
    " "
   ]
  },
  {
   "cell_type": "markdown",
   "id": "891b1f6a-f27e-4b06-8571-d119e70fb941",
   "metadata": {},
   "source": [
    "## <a id='2_b'>2. Feature extraction </a>\n",
    "\n",
    "In sound analysis, there is a lot of data that can be extracted from audio signals. For this task I exctracted some information from the samples using `librosa`, and analyse them in relationship with the target feature. I obtained the mean and variance for each value. Let's see a brief description of the attributes chosen:\n",
    "\n",
    "- **Fundamental frequency (f0)**: The lowest frequency produced by the voice. In this case I extracted the mean (`f0_mean`), median (`f0_median`), standard deviation (`f0_std`), min and max frequency (`f0_0`, `f0_100`), plus 25% and 75%-percentile value of the fundamental frequency (`f0_25`, `f0_75`) [link for details](https://en.wikipedia.org/wiki/Fundamental_frequency)\n",
    "- **Zero-crossing rate (zcr)**: is the rate at which a signal changes from positive to zero to negative or from negative to zero to positive, normally useful to detect percussive sounds [link for details](https://en.wikipedia.org/wiki/Zero-crossing_rate)\n",
    "- **Spectral centroid**: is a measure used to characterise a spectrum. It indicates where the center of mass of the spectrum is located. Perceptually, it has a robust connection with the impression of brightness of a sound [link for details](https://en.wikipedia.org/wiki/Spectral_centroid)\n",
    "- **Spectral contrast**: measure the clarity versus the broad noise of each band in the spectrum [link for details](https://librosa.org/doc/main/generated/librosa.feature.spectral_contrast.html)\n",
    "- **Spectral flatness**: is a measure to quantify how much noise-like a sound is [link for details](https://en.wikipedia.org/wiki/Spectral_flatness)\n",
    "- **Harmony**: measure harmonic elements from an audio time-series [link for details](https://en.wikipedia.org/wiki/Harmonic_series_(music))\n",
    "- **Root-Mean-Square (rms)**: is a value that measure the energy of the signal [link for details](https://en.wikipedia.org/wiki/Audio_power#Continuous_power_and_%22RMS_power%22)\n",
    "- **Chroma Feature**: compute a chromagram from a waveform or power spectrogram [link for details](https://en.wikipedia.org/wiki/Chroma_feature)\n",
    "- **Chroma Cqt**: compute the constant-Q chromagram [link for details](https://en.wikipedia.org/wiki/Constant-Q_transform)\n",
    "- **Chroma Cens**: computes the chroma variant “Chroma Energy Normalized” (CENS) [link for details](https://librosa.org/doc/main/generated/librosa.feature.chroma_cens.html)\n",
    "- **Rolloff**: the spectral roll-off point is the fraction of bins in the power spectrum at which 85% of the power is at lower frequencies [link for details](https://en.wikipedia.org/wiki/Roll-off)\n",
    "- **Mel-Frequency Cepstrum Components (MFCCs)**: they are the coefficients of the Mel cepstrum which is computed on the Mel-bands (scaled to human ear) instead of the Fourier spectrum. In particular I got 60 features, the mean and variance of each of the 30 extracted components [link for details](https://en.wikipedia.org/wiki/Mel-frequency_cepstrum)"
   ]
  },
  {
   "cell_type": "markdown",
   "id": "23eaff60-1077-42e8-999f-27ebe91b6600",
   "metadata": {},
   "source": [
    " "
   ]
  },
  {
   "cell_type": "markdown",
   "id": "1ed3ab31-90e1-41fe-ba5b-5669d56572c5",
   "metadata": {},
   "source": [
    "### <a id='2_b1'>Fundamental frequencies extraction</a>\n",
    "\n",
    "`librosa` offers the probabilistic YIN algorithm for extracting the fundamental frequency, which is a modification of the YIN algorithm for estimating F0. Although this method is much slower than the original, I have found it to be more accurate in finding right values."
   ]
  },
  {
   "cell_type": "code",
   "execution_count": 11,
   "id": "8ab92a2a-c5fc-4f7e-baa5-cae6b15278eb",
   "metadata": {},
   "outputs": [],
   "source": [
    "f0_mean, f0_median, f0_std, f0_0, f0_25, f0_75, f0_100 = [], [], [], [], [], [], []\n",
    "\n",
    "# Finction to extract f0 values\n",
    "def get_f0(file):\n",
    "    # load audio file:\n",
    "    y, sr = librosa.load(file, sr=16000)\n",
    "    \n",
    "    # Extract fundamental frequency using a probabilistic approach\n",
    "    f_zero, _, _ = librosa.pyin(y, sr=sr, fmin=50, fmax=1500, frame_length=1024)\n",
    "\n",
    "    f0_mean.append(np.nanmean(f_zero))             # f0 mean\n",
    "    f0_median.append(np.nanmedian(f_zero))         # f0 median\n",
    "    f0_std.append(np.nanstd(f_zero))               # f0 standar deviation\n",
    "    f0_0.append(np.nanpercentile(f_zero, 0))       # f0 min\n",
    "    f0_25.append(np.nanpercentile(f_zero, 25))     # f0 25%-percentile value\n",
    "    f0_75.append(np.nanpercentile(f_zero, 75))     # f0 75%-percentile value\n",
    "    f0_100.append(np.nanpercentile(f_zero, 100))   # f0 max"
   ]
  },
  {
   "cell_type": "code",
   "execution_count": 12,
   "id": "0be85fe6-3be7-4a23-b8c7-cf1763d23d10",
   "metadata": {},
   "outputs": [
    {
     "name": "stdout",
     "output_type": "stream",
     "text": [
      "CPU times: user 7h 28min 24s, sys: 17min 47s, total: 7h 46min 12s\n",
      "Wall time: 7h 46min 24s\n"
     ]
    }
   ],
   "source": [
    "%%time\n",
    "\n",
    "# Apply function to cleaned files\n",
    "for file in cleaned_files:\n",
    "    get_f0(file)"
   ]
  },
  {
   "cell_type": "code",
   "execution_count": 13,
   "id": "5c1e1e81-d819-44d4-a1ac-0bb8ce7823eb",
   "metadata": {},
   "outputs": [
    {
     "data": {
      "text/html": [
       "<div>\n",
       "<style scoped>\n",
       "    .dataframe tbody tr th:only-of-type {\n",
       "        vertical-align: middle;\n",
       "    }\n",
       "\n",
       "    .dataframe tbody tr th {\n",
       "        vertical-align: top;\n",
       "    }\n",
       "\n",
       "    .dataframe thead th {\n",
       "        text-align: right;\n",
       "    }\n",
       "</style>\n",
       "<table border=\"1\" class=\"dataframe\">\n",
       "  <thead>\n",
       "    <tr style=\"text-align: right;\">\n",
       "      <th></th>\n",
       "      <th>f0_mean</th>\n",
       "      <th>f0_median</th>\n",
       "      <th>f0_std</th>\n",
       "      <th>f0_0</th>\n",
       "      <th>f0_25</th>\n",
       "      <th>f0_75</th>\n",
       "      <th>f0_100</th>\n",
       "    </tr>\n",
       "  </thead>\n",
       "  <tbody>\n",
       "    <tr>\n",
       "      <th>12430</th>\n",
       "      <td>295.935383</td>\n",
       "      <td>228.416468</td>\n",
       "      <td>273.725123</td>\n",
       "      <td>155.114476</td>\n",
       "      <td>215.596437</td>\n",
       "      <td>237.841423</td>\n",
       "      <td>1475.70591</td>\n",
       "    </tr>\n",
       "  </tbody>\n",
       "</table>\n",
       "</div>"
      ],
      "text/plain": [
       "          f0_mean   f0_median      f0_std        f0_0       f0_25       f0_75  \\\n",
       "12430  295.935383  228.416468  273.725123  155.114476  215.596437  237.841423   \n",
       "\n",
       "           f0_100  \n",
       "12430  1475.70591  "
      ]
     },
     "execution_count": 13,
     "metadata": {},
     "output_type": "execute_result"
    }
   ],
   "source": [
    "df_f0 = pd.DataFrame()\n",
    "df_f0['f0_mean'] = f0_mean\n",
    "df_f0['f0_median'] = f0_median\n",
    "df_f0['f0_std'] = f0_std\n",
    "df_f0['f0_0'] = f0_0\n",
    "df_f0['f0_25'] = f0_25\n",
    "df_f0['f0_75'] = f0_75\n",
    "df_f0['f0_100'] = f0_100\n",
    "df_f0.sample()"
   ]
  },
  {
   "cell_type": "markdown",
   "id": "3e4795be-7e8a-416d-9cc0-aa81913c6ebd",
   "metadata": {},
   "source": [
    " "
   ]
  },
  {
   "cell_type": "markdown",
   "id": "8d17d505-d8fe-43f9-8b27-49442c3d6d99",
   "metadata": {},
   "source": [
    "### <a id='2_b2'>Other variables</a>"
   ]
  },
  {
   "cell_type": "code",
   "execution_count": 14,
   "id": "e2c32cd9-8f46-45a5-8be6-aecd5c8a1501",
   "metadata": {},
   "outputs": [
    {
     "name": "stdout",
     "output_type": "stream",
     "text": [
      "CPU times: user 5h 3min 52s, sys: 33min 3s, total: 5h 36min 56s\n",
      "Wall time: 2h 47min 13s\n"
     ]
    }
   ],
   "source": [
    "%%time\n",
    "\n",
    "# declare variables where to store the extracted feaures\n",
    "zcr_mean, zcr_var, spectral_centroid_mean, spectral_centroid_var, rms_mean, rms_var, chroma_stft_mean, chroma_stft_var = [], [], [], [], [], [], [], []\n",
    "rolloff_mean, rolloff_var, spectral_bandwidth_mean, spectral_bandwidth_var, harmony_mean, harmony_var, chroma_cqt_mean, chroma_cqt_var = [], [], [], [], [], [], [], []\n",
    "spectral_contrast_mean, spectral_contrast_var, spectral_flatness_mean, spectral_flatness_var, chroma_cens_mean, chroma_cens_var = [], [], [], [], [], []\n",
    "\n",
    "# extract features\n",
    "for file in cleaned_files:\n",
    "    # load audio file:\n",
    "    y, sr = librosa.load(file, sr=16000)\n",
    "    \n",
    "    # Zero crossing rate\n",
    "    zcr_mean.append(np.mean(librosa.feature.zero_crossing_rate(y)))\n",
    "    zcr_var.append(np.var(librosa.feature.zero_crossing_rate(y)))\n",
    "    \n",
    "    # Spectral centroid\n",
    "    spectral_centroid_mean.append(np.mean(librosa.feature.spectral_centroid(y)))\n",
    "    spectral_centroid_var.append(np.var(librosa.feature.spectral_centroid(y)))\n",
    "    \n",
    "    # Spectral contrast\n",
    "    spectral_contrast_mean.append(np.mean(librosa.feature.spectral_contrast(y)))\n",
    "    spectral_contrast_var.append(np.var(librosa.feature.spectral_contrast(y)))\n",
    "    \n",
    "    # Spectral flatness\n",
    "    spectral_flatness_mean.append(np.mean(librosa.feature.spectral_flatness(y)))\n",
    "    spectral_flatness_var.append(np.var(librosa.feature.spectral_flatness(y)))\n",
    "    \n",
    "    # Rms mean and variance\n",
    "    rms_mean.append(np.mean(librosa.feature.rms(y=y)))               \n",
    "    rms_var.append(np.var(librosa.feature.rms(y=y)))\n",
    "    \n",
    "    # Chroma mean and variance\n",
    "    chroma_stft_mean.append(np.mean(librosa.feature.chroma_stft(y, sr)))                   \n",
    "    chroma_stft_var.append(np.var(librosa.feature.chroma_stft(y, sr)))\n",
    "    \n",
    "    #Chroma cqt mean and variance\n",
    "    chroma_cqt_mean.append(np.mean(librosa.feature.chroma_cqt(y, sr)))                   \n",
    "    chroma_cqt_var.append(np.var(librosa.feature.chroma_cqt(y, sr)))\n",
    "    \n",
    "    #Chroma cens mean and variance\n",
    "    chroma_cens_mean.append(np.mean(librosa.feature.chroma_cens(y, sr)))                   \n",
    "    chroma_cens_var.append(np.var(librosa.feature.chroma_cens(y, sr)))\n",
    "    \n",
    "    # Rolloff mean and variance\n",
    "    rolloff_mean.append(np.mean(librosa.feature.spectral_rolloff(y,sr)))\n",
    "    rolloff_var.append(np.var(librosa.feature.spectral_rolloff(y,sr)))\n",
    "    \n",
    "    # Spectral bandwidth mean and variance\n",
    "    spectral_bandwidth_mean.append(np.mean(librosa.feature.spectral_bandwidth(y,sr)))\n",
    "    spectral_bandwidth_var.append(np.var(librosa.feature.spectral_bandwidth(y,sr)))\n",
    "    \n",
    "    # Harmony mean and variance\n",
    "    harmony_mean.append(np.mean(librosa.effects.harmonic(y)))\n",
    "    harmony_var.append(np.var(librosa.effects.harmonic(y)))"
   ]
  },
  {
   "cell_type": "code",
   "execution_count": 15,
   "id": "ba571775-9d28-4637-8e5a-ddffcfa35a7d",
   "metadata": {},
   "outputs": [
    {
     "data": {
      "text/html": [
       "<div>\n",
       "<style scoped>\n",
       "    .dataframe tbody tr th:only-of-type {\n",
       "        vertical-align: middle;\n",
       "    }\n",
       "\n",
       "    .dataframe tbody tr th {\n",
       "        vertical-align: top;\n",
       "    }\n",
       "\n",
       "    .dataframe thead th {\n",
       "        text-align: right;\n",
       "    }\n",
       "</style>\n",
       "<table border=\"1\" class=\"dataframe\">\n",
       "  <thead>\n",
       "    <tr style=\"text-align: right;\">\n",
       "      <th></th>\n",
       "      <th>zcr_mean</th>\n",
       "      <th>zcr_var</th>\n",
       "      <th>spectral_centroid_mean</th>\n",
       "      <th>spectral_centroid_var</th>\n",
       "      <th>spectral_contrast_mean</th>\n",
       "      <th>spectral_contrast_var</th>\n",
       "      <th>spectral_flatness_mean</th>\n",
       "      <th>spectral_flatness_var</th>\n",
       "      <th>rms_mean</th>\n",
       "      <th>rms_var</th>\n",
       "      <th>...</th>\n",
       "      <th>chroma_cqt_mean</th>\n",
       "      <th>chroma_cqt_var</th>\n",
       "      <th>chroma_cens_mean</th>\n",
       "      <th>chroma_cens_var</th>\n",
       "      <th>spectral_bandwidth_mean</th>\n",
       "      <th>spectral_bandwidth_var</th>\n",
       "      <th>rolloff_mean</th>\n",
       "      <th>rolloff_var</th>\n",
       "      <th>harmony_mean</th>\n",
       "      <th>harmony_var</th>\n",
       "    </tr>\n",
       "  </thead>\n",
       "  <tbody>\n",
       "    <tr>\n",
       "      <th>15443</th>\n",
       "      <td>0.100789</td>\n",
       "      <td>0.007527</td>\n",
       "      <td>2038.675889</td>\n",
       "      <td>1.702130e+06</td>\n",
       "      <td>20.540552</td>\n",
       "      <td>37.336241</td>\n",
       "      <td>0.027502</td>\n",
       "      <td>0.003225</td>\n",
       "      <td>0.107086</td>\n",
       "      <td>0.006086</td>\n",
       "      <td>...</td>\n",
       "      <td>0.359874</td>\n",
       "      <td>0.076113</td>\n",
       "      <td>0.244829</td>\n",
       "      <td>0.023392</td>\n",
       "      <td>1490.425241</td>\n",
       "      <td>300715.401892</td>\n",
       "      <td>2864.853896</td>\n",
       "      <td>3.368736e+06</td>\n",
       "      <td>0.000081</td>\n",
       "      <td>0.006406</td>\n",
       "    </tr>\n",
       "  </tbody>\n",
       "</table>\n",
       "<p>1 rows × 22 columns</p>\n",
       "</div>"
      ],
      "text/plain": [
       "       zcr_mean   zcr_var  spectral_centroid_mean  spectral_centroid_var  \\\n",
       "15443  0.100789  0.007527             2038.675889           1.702130e+06   \n",
       "\n",
       "       spectral_contrast_mean  spectral_contrast_var  spectral_flatness_mean  \\\n",
       "15443               20.540552              37.336241                0.027502   \n",
       "\n",
       "       spectral_flatness_var  rms_mean   rms_var  ...  chroma_cqt_mean  \\\n",
       "15443               0.003225  0.107086  0.006086  ...         0.359874   \n",
       "\n",
       "       chroma_cqt_var  chroma_cens_mean  chroma_cens_var  \\\n",
       "15443        0.076113          0.244829         0.023392   \n",
       "\n",
       "       spectral_bandwidth_mean  spectral_bandwidth_var  rolloff_mean  \\\n",
       "15443              1490.425241           300715.401892   2864.853896   \n",
       "\n",
       "        rolloff_var  harmony_mean  harmony_var  \n",
       "15443  3.368736e+06      0.000081     0.006406  \n",
       "\n",
       "[1 rows x 22 columns]"
      ]
     },
     "execution_count": 15,
     "metadata": {},
     "output_type": "execute_result"
    }
   ],
   "source": [
    "# add new features to a new dataframe\n",
    "df_features = pd.DataFrame()\n",
    "df_features['zcr_mean'] = zcr_mean\n",
    "df_features['zcr_var'] = zcr_var\n",
    "df_features['spectral_centroid_mean'] = spectral_centroid_mean\n",
    "df_features['spectral_centroid_var'] = spectral_centroid_var\n",
    "df_features['spectral_contrast_mean'] = spectral_contrast_mean\n",
    "df_features['spectral_contrast_var'] = spectral_contrast_var\n",
    "df_features['spectral_flatness_mean'] = spectral_flatness_mean\n",
    "df_features['spectral_flatness_var'] = spectral_flatness_var\n",
    "df_features['rms_mean'] = rms_mean\n",
    "df_features['rms_var'] = rms_var\n",
    "df_features['chroma_stft_mean'] = chroma_stft_mean\n",
    "df_features['chroma_stft_var'] = chroma_stft_var\n",
    "df_features['chroma_cqt_mean'] = chroma_cqt_mean\n",
    "df_features['chroma_cqt_var'] = chroma_cqt_var\n",
    "df_features['chroma_cens_mean'] = chroma_cens_mean\n",
    "df_features['chroma_cens_var'] = chroma_cens_var\n",
    "df_features['spectral_bandwidth_mean'] = spectral_bandwidth_mean\n",
    "df_features['spectral_bandwidth_var'] = spectral_bandwidth_var\n",
    "df_features['rolloff_mean'] = rolloff_mean\n",
    "df_features['rolloff_var'] = rolloff_var\n",
    "df_features['harmony_mean'] = harmony_mean\n",
    "df_features['harmony_var'] = harmony_var\n",
    "# Check a random row\n",
    "df_features.sample()"
   ]
  },
  {
   "cell_type": "markdown",
   "id": "618b76a2-8fca-472e-b678-026e69716003",
   "metadata": {},
   "source": [
    " "
   ]
  },
  {
   "cell_type": "markdown",
   "id": "c26df3d3-d591-4da8-96d3-ba93a2915ebf",
   "metadata": {},
   "source": [
    "### <a id='2_b3'>MFCCs</a>"
   ]
  },
  {
   "cell_type": "code",
   "execution_count": 16,
   "id": "ff010737-87ab-4a49-9f39-e8c5483831c6",
   "metadata": {},
   "outputs": [
    {
     "data": {
      "text/html": [
       "<div>\n",
       "<style scoped>\n",
       "    .dataframe tbody tr th:only-of-type {\n",
       "        vertical-align: middle;\n",
       "    }\n",
       "\n",
       "    .dataframe tbody tr th {\n",
       "        vertical-align: top;\n",
       "    }\n",
       "\n",
       "    .dataframe thead th {\n",
       "        text-align: right;\n",
       "    }\n",
       "</style>\n",
       "<table border=\"1\" class=\"dataframe\">\n",
       "  <thead>\n",
       "    <tr style=\"text-align: right;\">\n",
       "      <th></th>\n",
       "      <th>mfcc1_mean</th>\n",
       "      <th>mfcc2_mean</th>\n",
       "      <th>mfcc3_mean</th>\n",
       "      <th>mfcc4_mean</th>\n",
       "      <th>mfcc5_mean</th>\n",
       "      <th>mfcc6_mean</th>\n",
       "      <th>mfcc7_mean</th>\n",
       "      <th>mfcc8_mean</th>\n",
       "      <th>mfcc9_mean</th>\n",
       "      <th>mfcc10_mean</th>\n",
       "      <th>...</th>\n",
       "      <th>mfcc21_var</th>\n",
       "      <th>mfcc22_var</th>\n",
       "      <th>mfcc23_var</th>\n",
       "      <th>mfcc24_var</th>\n",
       "      <th>mfcc25_var</th>\n",
       "      <th>mfcc26_var</th>\n",
       "      <th>mfcc27_var</th>\n",
       "      <th>mfcc28_var</th>\n",
       "      <th>mfcc29_var</th>\n",
       "      <th>mfcc30_var</th>\n",
       "    </tr>\n",
       "  </thead>\n",
       "  <tbody>\n",
       "    <tr>\n",
       "      <th>12577</th>\n",
       "      <td>-220.369965</td>\n",
       "      <td>81.935516</td>\n",
       "      <td>-23.836346</td>\n",
       "      <td>-0.899617</td>\n",
       "      <td>0.663118</td>\n",
       "      <td>-2.636038</td>\n",
       "      <td>-16.423683</td>\n",
       "      <td>-13.724349</td>\n",
       "      <td>-8.89509</td>\n",
       "      <td>-11.408977</td>\n",
       "      <td>...</td>\n",
       "      <td>58.321266</td>\n",
       "      <td>46.76601</td>\n",
       "      <td>31.269527</td>\n",
       "      <td>34.102951</td>\n",
       "      <td>34.067581</td>\n",
       "      <td>79.207108</td>\n",
       "      <td>79.191185</td>\n",
       "      <td>109.316628</td>\n",
       "      <td>123.586655</td>\n",
       "      <td>142.036484</td>\n",
       "    </tr>\n",
       "  </tbody>\n",
       "</table>\n",
       "<p>1 rows × 60 columns</p>\n",
       "</div>"
      ],
      "text/plain": [
       "       mfcc1_mean  mfcc2_mean  mfcc3_mean  mfcc4_mean  mfcc5_mean  mfcc6_mean  \\\n",
       "12577 -220.369965   81.935516  -23.836346   -0.899617    0.663118   -2.636038   \n",
       "\n",
       "       mfcc7_mean  mfcc8_mean  mfcc9_mean  mfcc10_mean  ...  mfcc21_var  \\\n",
       "12577  -16.423683  -13.724349    -8.89509   -11.408977  ...   58.321266   \n",
       "\n",
       "       mfcc22_var  mfcc23_var  mfcc24_var  mfcc25_var  mfcc26_var  mfcc27_var  \\\n",
       "12577    46.76601   31.269527   34.102951   34.067581   79.207108   79.191185   \n",
       "\n",
       "       mfcc28_var  mfcc29_var  mfcc30_var  \n",
       "12577  109.316628  123.586655  142.036484  \n",
       "\n",
       "[1 rows x 60 columns]"
      ]
     },
     "execution_count": 16,
     "metadata": {},
     "output_type": "execute_result"
    }
   ],
   "source": [
    "# function to extract mean and variance of Mel-Frequency Cepstrum Components (MFCCs)\n",
    "def extract_mfcc(file):\n",
    "    \n",
    "    mfcc_mean, mfcc_var = [], []\n",
    "    \n",
    "    # load audio file:\n",
    "    y, sr = librosa.load(file, sr=16000)\n",
    "    \n",
    "    # get 20 mean values\n",
    "    mfcc_mean.append(np.mean(librosa.feature.mfcc(y=y, sr=sr, fmin=50, n_mfcc=30).T, axis=0))\n",
    "    \n",
    "    # get 20 variance values\n",
    "    mfcc_var.append(np.var(librosa.feature.mfcc(y=y, sr=sr, fmin=50, n_mfcc=30).T, axis=0))\n",
    "    \n",
    "    return np.hstack((mfcc_mean, mfcc_var))[0]\n",
    "\n",
    "# apply function above to all files and store results in a list\n",
    "extracted_mfcc = []\n",
    "\n",
    "for file in cleaned_files:\n",
    "    extracted_mfcc.append(extract_mfcc(file))\n",
    "\n",
    "# create column names for a dataframe\n",
    "name_mfcc_mean, name_mfcc_var = [], []\n",
    "\n",
    "for i in range(0, 30):\n",
    "    name_mfcc_mean.append('mfcc'+str(i+1)+'_mean')   # mfcc1_mean, mfcc2_mean, ...\n",
    "    name_mfcc_var.append('mfcc'+str(i+1)+'_var')     # mfcc1_var, mfcc2_var, ...\n",
    "\n",
    "name_mfcc = name_mfcc_mean + name_mfcc_var           # concatenate mfcc mean and variance names\n",
    "\n",
    "# finally put all mfcc values in a dataframe\n",
    "df_mfcc = pd.DataFrame(extracted_mfcc, columns = name_mfcc)\n",
    "df_mfcc.sample()      # print one sample"
   ]
  },
  {
   "cell_type": "markdown",
   "id": "2d0b63a3-97fd-42db-b321-ae99398c5021",
   "metadata": {},
   "source": [
    " "
   ]
  },
  {
   "cell_type": "markdown",
   "id": "34776101-d374-4e5e-ab41-00bc66ae9d1f",
   "metadata": {},
   "source": [
    "## <a id='3_a'>Merge and export all the extracted features<a>\n",
    "\n",
    "As it turned out, some operations used to take a long time to be done.\n",
    "    \n",
    "Finally, I can merge all the data into one dataframe and export it to perform the EDA. I can also remove the `sample_rate` column, now that the samples frequency is the same for each cleaned audio file (16000 Hz)."
   ]
  },
  {
   "cell_type": "code",
   "execution_count": 17,
   "id": "7d7fc59b-fd19-4964-acae-8dbcfaf5a310",
   "metadata": {},
   "outputs": [
    {
     "data": {
      "text/html": [
       "<div>\n",
       "<style scoped>\n",
       "    .dataframe tbody tr th:only-of-type {\n",
       "        vertical-align: middle;\n",
       "    }\n",
       "\n",
       "    .dataframe tbody tr th {\n",
       "        vertical-align: top;\n",
       "    }\n",
       "\n",
       "    .dataframe thead th {\n",
       "        text-align: right;\n",
       "    }\n",
       "</style>\n",
       "<table border=\"1\" class=\"dataframe\">\n",
       "  <thead>\n",
       "    <tr style=\"text-align: right;\">\n",
       "      <th></th>\n",
       "      <th>path</th>\n",
       "      <th>filename</th>\n",
       "      <th>dataset</th>\n",
       "      <th>duration</th>\n",
       "      <th>gender</th>\n",
       "      <th>age</th>\n",
       "      <th>emotion</th>\n",
       "      <th>f0_mean</th>\n",
       "      <th>f0_median</th>\n",
       "      <th>f0_std</th>\n",
       "      <th>...</th>\n",
       "      <th>mfcc21_var</th>\n",
       "      <th>mfcc22_var</th>\n",
       "      <th>mfcc23_var</th>\n",
       "      <th>mfcc24_var</th>\n",
       "      <th>mfcc25_var</th>\n",
       "      <th>mfcc26_var</th>\n",
       "      <th>mfcc27_var</th>\n",
       "      <th>mfcc28_var</th>\n",
       "      <th>mfcc29_var</th>\n",
       "      <th>mfcc30_var</th>\n",
       "    </tr>\n",
       "  </thead>\n",
       "  <tbody>\n",
       "    <tr>\n",
       "      <th>793</th>\n",
       "      <td>../Audio files/CREMA-D/1010_TIE_NEU_XX.wav</td>\n",
       "      <td>1010_TIE_NEU_XX</td>\n",
       "      <td>CREMA-D</td>\n",
       "      <td>2.636</td>\n",
       "      <td>female</td>\n",
       "      <td>27</td>\n",
       "      <td>neutral</td>\n",
       "      <td>190.633147</td>\n",
       "      <td>196.56412</td>\n",
       "      <td>41.089922</td>\n",
       "      <td>...</td>\n",
       "      <td>20.663019</td>\n",
       "      <td>18.28289</td>\n",
       "      <td>22.221407</td>\n",
       "      <td>24.661129</td>\n",
       "      <td>40.810772</td>\n",
       "      <td>72.538109</td>\n",
       "      <td>50.762707</td>\n",
       "      <td>33.290585</td>\n",
       "      <td>70.890846</td>\n",
       "      <td>104.620483</td>\n",
       "    </tr>\n",
       "  </tbody>\n",
       "</table>\n",
       "<p>1 rows × 96 columns</p>\n",
       "</div>"
      ],
      "text/plain": [
       "                                           path         filename  dataset  \\\n",
       "793  ../Audio files/CREMA-D/1010_TIE_NEU_XX.wav  1010_TIE_NEU_XX  CREMA-D   \n",
       "\n",
       "     duration  gender  age  emotion     f0_mean  f0_median     f0_std  ...  \\\n",
       "793     2.636  female   27  neutral  190.633147  196.56412  41.089922  ...   \n",
       "\n",
       "     mfcc21_var  mfcc22_var  mfcc23_var  mfcc24_var  mfcc25_var  mfcc26_var  \\\n",
       "793   20.663019    18.28289   22.221407   24.661129   40.810772   72.538109   \n",
       "\n",
       "     mfcc27_var  mfcc28_var  mfcc29_var  mfcc30_var  \n",
       "793   50.762707   33.290585   70.890846  104.620483  \n",
       "\n",
       "[1 rows x 96 columns]"
      ]
     },
     "execution_count": 17,
     "metadata": {},
     "output_type": "execute_result"
    }
   ],
   "source": [
    "# Merge dataframes and print few samples\n",
    "data_features = pd.concat([df, df_f0, df_features, df_mfcc], axis=1)\n",
    "\n",
    "# Remove `sample_rate` column\n",
    "data_features = data_features.drop(['sample_rate'], axis=1)\n",
    "\n",
    "# Check one random row\n",
    "data_features.sample()"
   ]
  },
  {
   "cell_type": "markdown",
   "id": "28e7fac6-5d4c-4468-ae26-85c97d0039d3",
   "metadata": {},
   "source": [
    " "
   ]
  },
  {
   "cell_type": "code",
   "execution_count": 18,
   "id": "ac49f1a8-1680-4c38-93c6-0ee3bf95991a",
   "metadata": {},
   "outputs": [],
   "source": [
    "# write csv\n",
    "data_features.to_csv('emotions_data_features.csv', index=False)"
   ]
  },
  {
   "cell_type": "markdown",
   "id": "57569523-9fc7-4b19-b59d-68f3eba08332",
   "metadata": {},
   "source": [
    "<br>[Back to top](#top2)"
   ]
  }
 ],
 "metadata": {
  "kernelspec": {
   "display_name": "Python [conda env:adsml] *",
   "language": "python",
   "name": "conda-env-adsml-py"
  },
  "language_info": {
   "codemirror_mode": {
    "name": "ipython",
    "version": 3
   },
   "file_extension": ".py",
   "mimetype": "text/x-python",
   "name": "python",
   "nbconvert_exporter": "python",
   "pygments_lexer": "ipython3",
   "version": "3.9.7"
  }
 },
 "nbformat": 4,
 "nbformat_minor": 5
}
